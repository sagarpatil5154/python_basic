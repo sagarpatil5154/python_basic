{
 "cells": [
  {
   "cell_type": "code",
   "execution_count": null,
   "id": "1533a4b7-94d4-4b52-bd35-011c0df38781",
   "metadata": {},
   "outputs": [],
   "source": [
    "a=10\n",
    "a\n",
    "\n",
    "#shift+enter at a time"
   ]
  },
  {
   "cell_type": "code",
   "execution_count": 2,
   "id": "f1273cf6-960c-4f10-8a53-8b6626918c09",
   "metadata": {},
   "outputs": [
    {
     "name": "stdout",
     "output_type": "stream",
     "text": [
      "28\n"
     ]
    }
   ],
   "source": [
    "import random \n",
    "a=random.randint(1,10)\n",
    "b=20\n",
    "c=a+b\n",
    "print(c)"
   ]
  },
  {
   "cell_type": "code",
   "execution_count": 1,
   "id": "0ff321db-c0a7-4203-83dc-b04db2c51ab7",
   "metadata": {},
   "outputs": [
    {
     "data": {
      "text/plain": [
       "30"
      ]
     },
     "execution_count": 1,
     "metadata": {},
     "output_type": "execute_result"
    }
   ],
   "source": [
    "b=30\n",
    "b"
   ]
  },
  {
   "cell_type": "code",
   "execution_count": null,
   "id": "0581e904-f062-4e5d-af92-64a827f6fa2c",
   "metadata": {},
   "outputs": [],
   "source": [
    "a+b"
   ]
  },
  {
   "cell_type": "code",
   "execution_count": null,
   "id": "7d115f2e-e406-449b-bb24-fff7194752d5",
   "metadata": {},
   "outputs": [],
   "source": [
    "for i in range(100000):\n",
    "    print(i)"
   ]
  },
  {
   "cell_type": "markdown",
   "id": "eda8e50c-10f4-4afd-aaa0-c784753e0b92",
   "metadata": {},
   "source": [
    "# markdown \n",
    "\n",
    "# if you want to write anything on jupiter notebook \n",
    "\n",
    "# select the perticular cell\n",
    "\n",
    "# where you want to write the information\n",
    "\n",
    "# go to the code option select markdown\n",
    "\n",
    "### shift+enter "
   ]
  },
  {
   "cell_type": "markdown",
   "id": "d398c4fe-4a9b-4e33-8509-a1532220403c",
   "metadata": {},
   "source": [
    "hello python"
   ]
  },
  {
   "cell_type": "code",
   "execution_count": null,
   "id": "89f89e10-71c3-4019-9abb-468941b5662a",
   "metadata": {},
   "outputs": [],
   "source": [
    "esc+m====markdown mode\n",
    "esc+y====code mode"
   ]
  },
  {
   "cell_type": "markdown",
   "id": "e052064a-162e-4105-8b20-bd9e964386bd",
   "metadata": {},
   "source": [
    "<img src=\"https://cdn.britannica.com/28/239528-050-D89C8118/reticulated-python-Malayopython-reticulatus.jpg\" jsaction=\"VQAsE\" class=\"sFlh5c pT0Scc iPVvYb\" style=\"max-width: 1600px; height: 310px; margin: 0px; width: 465px;\" alt=\"Python | Snake, Characteristics, Habitats, &amp; Facts | Britannica\" jsname=\"kn3ccd\" aria-hidden=\"false\">"
   ]
  },
  {
   "cell_type": "markdown",
   "id": "0f448b25-1f81-45be-9f4c-e534a1c33f25",
   "metadata": {},
   "source": [
    "<img src=\"https://www.datasciencecentral.com/wp-content/uploads/2022/10/AdobeStock_384832972.jpg\" jsaction=\"VQAsE\" class=\"sFlh5c pT0Scc iPVvYb\" style=\"max-width: 1024px; height: 262px; margin: 0px; width: 465px;\" alt=\"Python File Input/Output: Read &amp; Write Files in Python\" jsname=\"kn3ccd\" aria-hidden=\"false\">"
   ]
  },
  {
   "cell_type": "code",
   "execution_count": 1,
   "id": "acdef3e7-007a-4137-8c23-ba1c95ce4d28",
   "metadata": {},
   "outputs": [
    {
     "name": "stdout",
     "output_type": "stream",
     "text": [
      "30\n"
     ]
    }
   ],
   "source": [
    "a=10\n",
    "b=20\n",
    "c=a+b\n",
    "print(c)"
   ]
  },
  {
   "cell_type": "code",
   "execution_count": null,
   "id": "3440ec60-34ab-4cb6-b30e-a039b4658069",
   "metadata": {},
   "outputs": [],
   "source": []
  }
 ],
 "metadata": {
  "kernelspec": {
   "display_name": "Python 3 (ipykernel)",
   "language": "python",
   "name": "python3"
  },
  "language_info": {
   "codemirror_mode": {
    "name": "ipython",
    "version": 3
   },
   "file_extension": ".py",
   "mimetype": "text/x-python",
   "name": "python",
   "nbconvert_exporter": "python",
   "pygments_lexer": "ipython3",
   "version": "3.11.7"
  }
 },
 "nbformat": 4,
 "nbformat_minor": 5
}
