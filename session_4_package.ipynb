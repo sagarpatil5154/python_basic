{
 "cells": [
  {
   "cell_type": "code",
   "execution_count": null,
   "id": "2978f4d0-c1c3-44f6-b434-43e67685e15e",
   "metadata": {},
   "outputs": [],
   "source": [
    "black= variable\n",
    "red = english\n",
    "green = keyword or math\n",
    "\n",
    "package name= os\n",
    "package name= random\n",
    "package name= math\n",
    "package name= keyword\n",
    "package name= time\n"
   ]
  },
  {
   "cell_type": "code",
   "execution_count": null,
   "id": "d9e49ce9-a2f3-4b98-b1f0-de6d7377f04c",
   "metadata": {},
   "outputs": [],
   "source": [
    "[a,b]\n",
    "[10,20] #both numbers are included \n",
    "[10,20) #10 is included 20 is not\n",
    "(10,20] #10 is not included 20 is included 11-20\n",
    "(10,20) #both are not included 11-19"
   ]
  },
  {
   "cell_type": "code",
   "execution_count": 1,
   "id": "e704ea94-3039-493d-994d-67f883151586",
   "metadata": {},
   "outputs": [],
   "source": [
    "import os"
   ]
  },
  {
   "cell_type": "code",
   "execution_count": 4,
   "id": "4de7deba-8919-41bf-82b4-11787ff4e8d4",
   "metadata": {},
   "outputs": [
    {
     "data": {
      "text/plain": [
       "<module 'random' from 'C:\\\\Users\\\\ADMIN\\\\anaconda3\\\\Lib\\\\random.py'>"
      ]
     },
     "execution_count": 4,
     "metadata": {},
     "output_type": "execute_result"
    }
   ],
   "source": [
    "import random\n",
    "random"
   ]
  },
  {
   "cell_type": "code",
   "execution_count": 5,
   "id": "c18c68e2-f044-46e3-8157-e0e3bfeb22df",
   "metadata": {},
   "outputs": [
    {
     "data": {
      "text/plain": [
       "<module 'cv2' from 'C:\\\\Users\\\\ADMIN\\\\anaconda3\\\\Lib\\\\site-packages\\\\cv2\\\\__init__.py'>"
      ]
     },
     "execution_count": 5,
     "metadata": {},
     "output_type": "execute_result"
    }
   ],
   "source": [
    "import cv2\n",
    "cv2"
   ]
  },
  {
   "cell_type": "code",
   "execution_count": 8,
   "id": "cdd2372f-a1f6-4cc6-b1a6-05c6d254045e",
   "metadata": {},
   "outputs": [],
   "source": [
    "import keyword"
   ]
  },
  {
   "cell_type": "code",
   "execution_count": 10,
   "id": "7381bccc-a486-47ad-9912-2a4e4555f834",
   "metadata": {},
   "outputs": [
    {
     "data": {
      "text/plain": [
       "35"
      ]
     },
     "execution_count": 10,
     "metadata": {},
     "output_type": "execute_result"
    }
   ],
   "source": [
    "len(keyword.kwlist)"
   ]
  },
  {
   "cell_type": "raw",
   "id": "8a5779b6-4ed6-4f37-bc87-29930858e3e5",
   "metadata": {},
   "source": []
  },
  {
   "cell_type": "code",
   "execution_count": 1,
   "id": "92f3c0f8-4016-4ee4-8cef-99b88ba49d42",
   "metadata": {},
   "outputs": [
    {
     "name": "stdout",
     "output_type": "stream",
     "text": [
      "hello\n",
      "hie\n",
      "bye\n"
     ]
    }
   ],
   "source": [
    "import time\n",
    "print(\"hello\")\n",
    "time.sleep(5)\n",
    "print(\"hie\")\n",
    "time.sleep(5)\n",
    "print(\"bye\")"
   ]
  },
  {
   "cell_type": "code",
   "execution_count": 12,
   "id": "f13f1ca2-5e80-4e1f-9995-722b9362f152",
   "metadata": {},
   "outputs": [],
   "source": [
    "import time"
   ]
  },
  {
   "cell_type": "code",
   "execution_count": 13,
   "id": "ac0ac56a-eeb3-4fd5-abca-5b34cce2ad66",
   "metadata": {},
   "outputs": [
    {
     "name": "stdout",
     "output_type": "stream",
     "text": [
      "hello\n",
      "hie\n",
      "bye\n"
     ]
    }
   ],
   "source": [
    "print(\"hello\")\n",
    "time.sleep(5)\n",
    "print(\"hie\")\n",
    "time.sleep(5)\n",
    "print(\"bye\")"
   ]
  },
  {
   "cell_type": "code",
   "execution_count": 14,
   "id": "644826b9-2b4a-4e19-8550-f55f4c4652a2",
   "metadata": {},
   "outputs": [
    {
     "name": "stdout",
     "output_type": "stream",
     "text": [
      "hello\n",
      "hie\n",
      "bye\n",
      "good day\n",
      "total time taken is 15.00321888923645\n"
     ]
    }
   ],
   "source": [
    "start=time.time() #0 sec\n",
    "print(\"hello\")\n",
    "time.sleep(5)\n",
    "print(\"hie\")\n",
    "time.sleep(5)\n",
    "print(\"bye\")\n",
    "time.sleep(5)\n",
    "print(\"good day\")\n",
    "end=time.time() # 10 sec\n",
    "print(f\"total time taken is {end-start}\")"
   ]
  },
  {
   "cell_type": "code",
   "execution_count": 1,
   "id": "f2ad352b-f401-4229-ab79-813034e69f51",
   "metadata": {},
   "outputs": [],
   "source": [
    "import time"
   ]
  },
  {
   "cell_type": "code",
   "execution_count": null,
   "id": "557542f3-d0cf-4ea9-8b6f-36a25fafe680",
   "metadata": {},
   "outputs": [],
   "source": [
    "start=time.time()\n",
    "print('hello')\n",
    "time.sleep()\n",
    "print('sagar')\n",
    "time.sleep(5)\n",
    "print('patil')\n",
    "time.sleep(5)\n",
    "end=time.time()\n",
    "print"
   ]
  }
 ],
 "metadata": {
  "kernelspec": {
   "display_name": "Python 3 (ipykernel)",
   "language": "python",
   "name": "python3"
  },
  "language_info": {
   "codemirror_mode": {
    "name": "ipython",
    "version": 3
   },
   "file_extension": ".py",
   "mimetype": "text/x-python",
   "name": "python",
   "nbconvert_exporter": "python",
   "pygments_lexer": "ipython3",
   "version": "3.11.7"
  }
 },
 "nbformat": 4,
 "nbformat_minor": 5
}
