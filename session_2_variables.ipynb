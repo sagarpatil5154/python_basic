{
 "cells": [
  {
   "cell_type": "markdown",
   "id": "5c58c449-81d3-4fca-8fac-a7cb52191965",
   "metadata": {},
   "source": [
    "# variables"
   ]
  },
  {
   "cell_type": "markdown",
   "id": "7d036778-dd6e-4d2b-8d34-5e239d7b4d33",
   "metadata": {},
   "source": [
    "- variables has value but that can change every time"
   ]
  },
  {
   "cell_type": "code",
   "execution_count": 1,
   "id": "b6fcf1cd-36e7-4149-9a1a-1d677daef7c4",
   "metadata": {},
   "outputs": [
    {
     "data": {
      "text/plain": [
       "'sagar'"
      ]
     },
     "execution_count": 1,
     "metadata": {},
     "output_type": "execute_result"
    }
   ],
   "source": [
    "name=\"sagar\"\n",
    "name"
   ]
  },
  {
   "cell_type": "code",
   "execution_count": null,
   "id": "739d71ec-cfd7-48cb-99a1-06d2c86c49fc",
   "metadata": {},
   "outputs": [],
   "source": []
  },
  {
   "cell_type": "code",
   "execution_count": 9,
   "id": "9d59ff0a-6955-454c-b78b-00df21b7bc14",
   "metadata": {},
   "outputs": [
    {
     "data": {
      "text/plain": [
       "(500, 600)"
      ]
     },
     "execution_count": 9,
     "metadata": {},
     "output_type": "execute_result"
    }
   ],
   "source": [
    "number=500\n",
    "NUMBER=600\n",
    "number,NUMBER"
   ]
  },
  {
   "cell_type": "code",
   "execution_count": 6,
   "id": "d857591e-2159-400f-ada0-5d93004386c9",
   "metadata": {},
   "outputs": [
    {
     "data": {
      "text/plain": [
       "500"
      ]
     },
     "execution_count": 6,
     "metadata": {},
     "output_type": "execute_result"
    }
   ],
   "source": [
    "number123=500\n",
    "number123"
   ]
  },
  {
   "cell_type": "code",
   "execution_count": 8,
   "id": "ef82af5e-c5fe-4f7d-889d-b515ff1e8eb9",
   "metadata": {},
   "outputs": [
    {
     "data": {
      "text/plain": [
       "(400, 600)"
      ]
     },
     "execution_count": 8,
     "metadata": {},
     "output_type": "execute_result"
    }
   ],
   "source": [
    "NUMBERnumber=400\n",
    "numberNUMBER=600\n",
    "NUMBERnumber,numberNUMBER"
   ]
  },
  {
   "cell_type": "markdown",
   "id": "7c589597-197f-4fd1-85b6-cdb6678fd3c7",
   "metadata": {},
   "source": [
    "- variables does not have special charactrs exept underscore"
   ]
  },
  {
   "cell_type": "code",
   "execution_count": 10,
   "id": "cfadc177-4b70-4460-a3b1-7559c9bee202",
   "metadata": {},
   "outputs": [
    {
     "data": {
      "text/plain": [
       "700"
      ]
     },
     "execution_count": 10,
     "metadata": {},
     "output_type": "execute_result"
    }
   ],
   "source": [
    "number_value=700\n",
    "number_value"
   ]
  },
  {
   "cell_type": "code",
   "execution_count": 11,
   "id": "477bd95c-4612-4f4a-9748-d8e99dab6c2a",
   "metadata": {},
   "outputs": [
    {
     "data": {
      "text/plain": [
       "125"
      ]
     },
     "execution_count": 11,
     "metadata": {},
     "output_type": "execute_result"
    }
   ],
   "source": [
    "_=125\n",
    "_"
   ]
  },
  {
   "cell_type": "markdown",
   "id": "356306df-1ef0-4939-b72d-86820c5d803f",
   "metadata": {},
   "source": [
    "- keyword should not use as a variables"
   ]
  },
  {
   "cell_type": "markdown",
   "id": "92cc5fb9-0217-4bad-a6d8-22052e5bef59",
   "metadata": {},
   "source": [
    "_if\n",
    "_else\n",
    "_elif\n",
    "_for\n",
    "_while\n",
    "_and\n",
    "_or"
   ]
  },
  {
   "cell_type": "code",
   "execution_count": null,
   "id": "3219487f-5ed9-44f0-8ac0-eaac34a853ba",
   "metadata": {},
   "outputs": [],
   "source": []
  }
 ],
 "metadata": {
  "kernelspec": {
   "display_name": "Python 3 (ipykernel)",
   "language": "python",
   "name": "python3"
  },
  "language_info": {
   "codemirror_mode": {
    "name": "ipython",
    "version": 3
   },
   "file_extension": ".py",
   "mimetype": "text/x-python",
   "name": "python",
   "nbconvert_exporter": "python",
   "pygments_lexer": "ipython3",
   "version": "3.11.7"
  }
 },
 "nbformat": 4,
 "nbformat_minor": 5
}
