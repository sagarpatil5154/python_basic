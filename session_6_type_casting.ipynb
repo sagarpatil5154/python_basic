{
 "cells": [
  {
   "cell_type": "code",
   "execution_count": null,
   "id": "fd8129ee-c9d1-4933-93af-e933c16f3473",
   "metadata": {},
   "outputs": [],
   "source": [
    "## Type caste\n",
    "**Data type conversion**\n",
    "converting one daata type to another data type\n",
    "**integer type conversion**\n",
    "- float to int\n",
    "- float to str\n",
    "- "
   ]
  },
  {
   "cell_type": "code",
   "execution_count": 6,
   "id": "2fe9932c-4b9c-4d67-b4e5-83aa827bfaac",
   "metadata": {},
   "outputs": [
    {
     "name": "stdout",
     "output_type": "stream",
     "text": [
      "float conversion is 100.0\n",
      "str conversion is 100\n",
      "bool conversion is True\n"
     ]
    }
   ],
   "source": [
    "name=(100)\n",
    "print (\"float conversion is\",float(name))\n",
    "print (\"str conversion is\",str(name))\n",
    "print (\"bool conversion is\",bool(name))\n"
   ]
  },
  {
   "cell_type": "code",
   "execution_count": 3,
   "id": "36ec20c0-ca23-431c-ba20-81267a0c6d0e",
   "metadata": {},
   "outputs": [
    {
     "data": {
      "text/plain": [
       "(0.0, '0', False)"
      ]
     },
     "execution_count": 3,
     "metadata": {},
     "output_type": "execute_result"
    }
   ],
   "source": [
    "num=0\n",
    "float(num),str(num),bool(num)"
   ]
  },
  {
   "cell_type": "code",
   "execution_count": null,
   "id": "c378ca68-3194-48db-9267-e4ff01e8b58b",
   "metadata": {},
   "outputs": [],
   "source": [
    "**note**\n",
    "- For Integer 0 value we will get false\n",
    "- Remaining all other vallues(+) "
   ]
  },
  {
   "cell_type": "code",
   "execution_count": 5,
   "id": "1bd75d6e-16ac-40a5-bbc4-b84c1d6fd231",
   "metadata": {},
   "outputs": [
    {
     "data": {
      "text/plain": [
       "('10.5', True, 10)"
      ]
     },
     "execution_count": 5,
     "metadata": {},
     "output_type": "execute_result"
    }
   ],
   "source": [
    "num1=10.5\n",
    "str(num1),bool(num1),int(num1)"
   ]
  },
  {
   "cell_type": "code",
   "execution_count": 7,
   "id": "8eb7adf3-3e53-42a4-9500-57ff095ea056",
   "metadata": {},
   "outputs": [
    {
     "data": {
      "text/plain": [
       "('0.0', False, 0)"
      ]
     },
     "execution_count": 7,
     "metadata": {},
     "output_type": "execute_result"
    }
   ],
   "source": [
    "num2=0.0\n",
    "str(num2),bool(num2),int(num2)"
   ]
  },
  {
   "cell_type": "markdown",
   "id": "4806715c-c59c-4d12-a84b-01b39b2e373c",
   "metadata": {},
   "source": [
    "**String conversion**"
   ]
  },
  {
   "cell_type": "code",
   "execution_count": 8,
   "id": "ecdb092e-2941-41a3-bab3-ad54e4063d85",
   "metadata": {},
   "outputs": [
    {
     "ename": "ValueError",
     "evalue": "invalid literal for int() with base 10: 'python'",
     "output_type": "error",
     "traceback": [
      "\u001b[1;31m---------------------------------------------------------------------------\u001b[0m",
      "\u001b[1;31mValueError\u001b[0m                                Traceback (most recent call last)",
      "Cell \u001b[1;32mIn[8], line 2\u001b[0m\n\u001b[0;32m      1\u001b[0m str1\u001b[38;5;241m=\u001b[39m\u001b[38;5;124m\"\u001b[39m\u001b[38;5;124mpython\u001b[39m\u001b[38;5;124m\"\u001b[39m\n\u001b[1;32m----> 2\u001b[0m \u001b[38;5;28mint\u001b[39m(str1)\n",
      "\u001b[1;31mValueError\u001b[0m: invalid literal for int() with base 10: 'python'"
     ]
    }
   ],
   "source": [
    "str1=\"python\"\n",
    "int(str1)"
   ]
  },
  {
   "cell_type": "code",
   "execution_count": 9,
   "id": "23a016c3-c766-448b-9e8a-f795ee2b1fa3",
   "metadata": {},
   "outputs": [
    {
     "data": {
      "text/plain": [
       "True"
      ]
     },
     "execution_count": 9,
     "metadata": {},
     "output_type": "execute_result"
    }
   ],
   "source": [
    "bool(str1)"
   ]
  },
  {
   "cell_type": "code",
   "execution_count": 11,
   "id": "4d6afaaa-2059-4e65-8a27-c4733fc9a69e",
   "metadata": {},
   "outputs": [
    {
     "data": {
      "text/plain": [
       "(10, 10.0, True)"
      ]
     },
     "execution_count": 11,
     "metadata": {},
     "output_type": "execute_result"
    }
   ],
   "source": [
    "str2='10'\n",
    "int(str2),float(str2),bool(str2)"
   ]
  },
  {
   "cell_type": "code",
   "execution_count": 13,
   "id": "c1fa0e1e-52b2-418c-a204-c5c8c9ef855f",
   "metadata": {},
   "outputs": [
    {
     "ename": "ValueError",
     "evalue": "invalid literal for int() with base 10: '10.5'",
     "output_type": "error",
     "traceback": [
      "\u001b[1;31m---------------------------------------------------------------------------\u001b[0m",
      "\u001b[1;31mValueError\u001b[0m                                Traceback (most recent call last)",
      "Cell \u001b[1;32mIn[13], line 2\u001b[0m\n\u001b[0;32m      1\u001b[0m str3\u001b[38;5;241m=\u001b[39m\u001b[38;5;124m'\u001b[39m\u001b[38;5;124m10.5\u001b[39m\u001b[38;5;124m'\u001b[39m\n\u001b[1;32m----> 2\u001b[0m \u001b[38;5;28mint\u001b[39m(str3),\u001b[38;5;28mfloat\u001b[39m(str3),\u001b[38;5;28mbool\u001b[39m(str3)\n",
      "\u001b[1;31mValueError\u001b[0m: invalid literal for int() with base 10: '10.5'"
     ]
    }
   ],
   "source": [
    "str3='10.5'\n",
    "int(str3),float(str3),bool(str3)"
   ]
  },
  {
   "cell_type": "code",
   "execution_count": 14,
   "id": "aaf27125-f350-4548-a1ee-c5c7a7471ce2",
   "metadata": {},
   "outputs": [
    {
     "data": {
      "text/plain": [
       "True"
      ]
     },
     "execution_count": 14,
     "metadata": {},
     "output_type": "execute_result"
    }
   ],
   "source": [
    "bool(str3)"
   ]
  },
  {
   "cell_type": "markdown",
   "id": "e4ca0d9e-269e-4cff-81b5-5a5cbabdc2d2",
   "metadata": {},
   "source": [
    "**note**\n",
    "- float representation of string works only for float conversation"
   ]
  },
  {
   "cell_type": "code",
   "execution_count": 15,
   "id": "0603e74b-1ae0-4697-9ca9-cff10f255bc3",
   "metadata": {},
   "outputs": [
    {
     "ename": "ValueError",
     "evalue": "invalid literal for int() with base 10: ''",
     "output_type": "error",
     "traceback": [
      "\u001b[1;31m---------------------------------------------------------------------------\u001b[0m",
      "\u001b[1;31mValueError\u001b[0m                                Traceback (most recent call last)",
      "Cell \u001b[1;32mIn[15], line 2\u001b[0m\n\u001b[0;32m      1\u001b[0m str4\u001b[38;5;241m=\u001b[39m\u001b[38;5;124m'\u001b[39m\u001b[38;5;124m'\u001b[39m\n\u001b[1;32m----> 2\u001b[0m \u001b[38;5;28mint\u001b[39m(str4),\u001b[38;5;28mfloat\u001b[39m(str4),\u001b[38;5;28mbool\u001b[39m(str4)\n",
      "\u001b[1;31mValueError\u001b[0m: invalid literal for int() with base 10: ''"
     ]
    }
   ],
   "source": [
    "str4=''\n",
    "int(str4),float(str4),bool(str4)"
   ]
  },
  {
   "cell_type": "code",
   "execution_count": 16,
   "id": "a6d58681-3bfb-4423-babb-b33f3dcb576c",
   "metadata": {},
   "outputs": [
    {
     "ename": "ValueError",
     "evalue": "could not convert string to float: ''",
     "output_type": "error",
     "traceback": [
      "\u001b[1;31m---------------------------------------------------------------------------\u001b[0m",
      "\u001b[1;31mValueError\u001b[0m                                Traceback (most recent call last)",
      "Cell \u001b[1;32mIn[16], line 1\u001b[0m\n\u001b[1;32m----> 1\u001b[0m \u001b[38;5;28mfloat\u001b[39m(str4)\n",
      "\u001b[1;31mValueError\u001b[0m: could not convert string to float: ''"
     ]
    }
   ],
   "source": [
    "float(str4)"
   ]
  },
  {
   "cell_type": "raw",
   "id": "04507ebc-af50-4c47-8aec-3dc4d35d461a",
   "metadata": {},
   "source": [
    "bool(str4)"
   ]
  },
  {
   "cell_type": "code",
   "execution_count": 18,
   "id": "f0ccd777-bd56-4969-8caf-cb81e9360ac3",
   "metadata": {},
   "outputs": [
    {
     "data": {
      "text/plain": [
       "(1, 1.0, True)"
      ]
     },
     "execution_count": 18,
     "metadata": {},
     "output_type": "execute_result"
    }
   ],
   "source": [
    "bool1=True\n",
    "int(bool1),float(bool1),bool(bool1)"
   ]
  },
  {
   "cell_type": "code",
   "execution_count": 19,
   "id": "6480caf7-d0b2-42da-a1d0-d6ffa7774186",
   "metadata": {},
   "outputs": [
    {
     "data": {
      "text/plain": [
       "(0, 0.0, False)"
      ]
     },
     "execution_count": 19,
     "metadata": {},
     "output_type": "execute_result"
    }
   ],
   "source": [
    "bool2=False\n",
    "int(bool2),float(bool2),bool(bool2)"
   ]
  },
  {
   "cell_type": "code",
   "execution_count": null,
   "id": "0fdd6359-457f-49e9-b13b-b3a7f42a2858",
   "metadata": {},
   "outputs": [],
   "source": [
    "str1='word' #int fail\n",
    "str2='' #int float\n",
    "str3='10.5' #int fail\n",
    "str4='10' #all works"
   ]
  },
  {
   "cell_type": "code",
   "execution_count": null,
   "id": "f0275f4c-41b9-466a-a87c-1367c5da5989",
   "metadata": {},
   "outputs": [],
   "source": []
  }
 ],
 "metadata": {
  "kernelspec": {
   "display_name": "Python 3 (ipykernel)",
   "language": "python",
   "name": "python3"
  },
  "language_info": {
   "codemirror_mode": {
    "name": "ipython",
    "version": 3
   },
   "file_extension": ".py",
   "mimetype": "text/x-python",
   "name": "python",
   "nbconvert_exporter": "python",
   "pygments_lexer": "ipython3",
   "version": "3.11.7"
  }
 },
 "nbformat": 4,
 "nbformat_minor": 5
}
