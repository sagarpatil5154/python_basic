{
 "cells": [
  {
   "cell_type": "markdown",
   "id": "a65f02a8-9747-4399-bc78-bd030f5b256a",
   "metadata": {},
   "source": [
    "**strings**"
   ]
  },
  {
   "cell_type": "code",
   "execution_count": 1,
   "id": "f0c305f0-0f41-4583-97a0-63818b5648ca",
   "metadata": {},
   "outputs": [
    {
     "data": {
      "text/plain": [
       "'hydrabad'"
      ]
     },
     "execution_count": 1,
     "metadata": {},
     "output_type": "execute_result"
    }
   ],
   "source": [
    "name=\"hydrabad\"\n",
    "name   # hydrabad is a string store in avariable\n",
    "# string write up or any text \n",
    "# "
   ]
  },
  {
   "cell_type": "code",
   "execution_count": 2,
   "id": "2c5c67ed-3b5f-406c-874a-4115aebcaeaa",
   "metadata": {},
   "outputs": [
    {
     "data": {
      "text/plain": [
       "('blr', 'hyd')"
      ]
     },
     "execution_count": 2,
     "metadata": {},
     "output_type": "execute_result"
    }
   ],
   "source": [
    "name=\"blr\"\n",
    "name1='hyd'\n",
    "name,name1\n",
    "# by default python gives output in single quotes only"
   ]
  },
  {
   "cell_type": "code",
   "execution_count": 4,
   "id": "9a705804-910c-40b6-9e20-f6484ac75bd3",
   "metadata": {},
   "outputs": [
    {
     "name": "stdout",
     "output_type": "stream",
     "text": [
      "blr\n"
     ]
    }
   ],
   "source": [
    "print(name)\n",
    "# no quotes display when we use print statement"
   ]
  },
  {
   "cell_type": "code",
   "execution_count": 5,
   "id": "09b11fd5-7fea-4c72-b8cc-d9bdc55a8f6e",
   "metadata": {},
   "outputs": [
    {
     "name": "stdout",
     "output_type": "stream",
     "text": [
      "I like 'python'\n"
     ]
    }
   ],
   "source": [
    "str1=\"I like 'python'\"\n",
    "print (str1)"
   ]
  },
  {
   "cell_type": "code",
   "execution_count": 6,
   "id": "c6ea3022-7197-4b90-941a-ed88fa6b98f9",
   "metadata": {},
   "outputs": [
    {
     "name": "stdout",
     "output_type": "stream",
     "text": [
      "I like \"python\"\n"
     ]
    }
   ],
   "source": [
    "str2='I like \"python\"'\n",
    "print(str2)"
   ]
  },
  {
   "cell_type": "code",
   "execution_count": 7,
   "id": "93df364a-184d-4d72-845a-4a7114c305fc",
   "metadata": {},
   "outputs": [
    {
     "name": "stdout",
     "output_type": "stream",
     "text": [
      "hello\n",
      "how are you \n",
      "im doing good\n"
     ]
    }
   ],
   "source": [
    "str3=\"\"\"hello\n",
    "how are you \n",
    "im doing good\"\"\"\n",
    "print(str3)"
   ]
  },
  {
   "cell_type": "markdown",
   "id": "882e9a56-7bf5-4c0b-9433-c3ff41e90986",
   "metadata": {},
   "source": [
    "**doc string**\n",
    "-Generally in jupiter notebook  we have markdown option to write something \n",
    "- which means what ever we are writin g in markdown , it is convey information\n",
    "- but in other platform we dont have markdown option ex: vscode\n",
    "- In that situation we will convey the information in triple quotes \n",
    "- this method is called doc string \n",
    "- Initilise the string either in single or double quotes only\n",
    "- Triple quotes mean conveing information to you\n",
    "- Doc strikng"
   ]
  },
  {
   "cell_type": "code",
   "execution_count": 8,
   "id": "57abae75-8c03-46eb-a16f-0cdece21d9df",
   "metadata": {},
   "outputs": [],
   "source": [
    "import random"
   ]
  },
  {
   "cell_type": "code",
   "execution_count": 9,
   "id": "498ac26b-9771-476b-9254-e97901a9093e",
   "metadata": {},
   "outputs": [
    {
     "data": {
      "text/plain": [
       "18"
      ]
     },
     "execution_count": 9,
     "metadata": {},
     "output_type": "execute_result"
    }
   ],
   "source": [
    "random.randint(10,20)"
   ]
  },
  {
   "cell_type": "markdown",
   "id": "17bc1d57-e491-45c8-a3b4-a178d29fd69c",
   "metadata": {},
   "source": [
    "**Boolean**"
   ]
  },
  {
   "cell_type": "markdown",
   "id": "548ecdf5-267f-4684-9c57-5daf751470d5",
   "metadata": {},
   "source": [
    "- true= 1\n",
    "- false=0"
   ]
  },
  {
   "cell_type": "code",
   "execution_count": 11,
   "id": "283e6fc1-5056-4469-998b-8edc65d811d7",
   "metadata": {},
   "outputs": [
    {
     "data": {
      "text/plain": [
       "(int, str, bool)"
      ]
     },
     "execution_count": 11,
     "metadata": {},
     "output_type": "execute_result"
    }
   ],
   "source": [
    "true=100\n",
    "name1=true\n",
    "name2=\"true\"\n",
    "name3=True\n",
    "type(name1),type(name2),type(name3)"
   ]
  },
  {
   "cell_type": "code",
   "execution_count": null,
   "id": "7220c548-dfdf-435c-b03d-46b08669cdf6",
   "metadata": {},
   "outputs": [],
   "source": []
  }
 ],
 "metadata": {
  "kernelspec": {
   "display_name": "Python 3 (ipykernel)",
   "language": "python",
   "name": "python3"
  },
  "language_info": {
   "codemirror_mode": {
    "name": "ipython",
    "version": 3
   },
   "file_extension": ".py",
   "mimetype": "text/x-python",
   "name": "python",
   "nbconvert_exporter": "python",
   "pygments_lexer": "ipython3",
   "version": "3.11.7"
  }
 },
 "nbformat": 4,
 "nbformat_minor": 5
}
