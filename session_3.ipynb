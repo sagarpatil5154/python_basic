{
 "cells": [
  {
   "cell_type": "code",
   "execution_count": 1,
   "id": "e8f4a06e-b162-46b9-b68a-34cde473977b",
   "metadata": {},
   "outputs": [],
   "source": [
    "import os"
   ]
  },
  {
   "cell_type": "code",
   "execution_count": 2,
   "id": "c9da4a1c-2ab2-4e7f-b27e-4ac12f5076de",
   "metadata": {},
   "outputs": [
    {
     "data": {
      "text/plain": [
       "'C:\\\\Users\\\\ADMIN\\\\Documents\\\\Naresh it\\\\python session'"
      ]
     },
     "execution_count": 2,
     "metadata": {},
     "output_type": "execute_result"
    }
   ],
   "source": [
    "os.getcwd() #current working directory0"
   ]
  },
  {
   "cell_type": "markdown",
   "id": "c445612f-272e-4f4b-a54f-098a50518593",
   "metadata": {},
   "source": [
    "- normal statement using ,\n",
    "- format method\n",
    "- f string mehtod"
   ]
  },
  {
   "cell_type": "code",
   "execution_count": 7,
   "id": "d3f73c63-9b6e-4065-8102-6ab6ef69a1d7",
   "metadata": {},
   "outputs": [
    {
     "name": "stdout",
     "output_type": "stream",
     "text": [
      "if you want to write python program , you need to open jupiter notebook\n",
      "if you want to write python program , you need to openjupiter notebook\n",
      "if you want to write python program , you need to openjupiter notebook\n"
     ]
    }
   ],
   "source": [
    "name1=\"python\"\n",
    "name2=\"jupiter notebook\"\n",
    "# if you want to write python program , you need to open jupiter notebook\n",
    "print(\"if you want to write\",name1,\"program , you need to open\",name2)\n",
    "print(\"if you want to write {} program , you need to open{}\".format(name1,name2))\n",
    "print(f\"if you want to write {name1} program , you need to open{name2}\")"
   ]
  },
  {
   "cell_type": "code",
   "execution_count": 8,
   "id": "ec0169c6-abdb-4e41-a9ad-8fce81ff7cc1",
   "metadata": {},
   "outputs": [
    {
     "name": "stdout",
     "output_type": "stream",
     "text": [
      "hello  python\n"
     ]
    }
   ],
   "source": [
    "print(\"hello\", end=\"  \")\n",
    "print(\"python\")"
   ]
  },
  {
   "cell_type": "code",
   "execution_count": 9,
   "id": "b2cd40b5-dc4f-471a-8fd3-3e4e24d3acb5",
   "metadata": {},
   "outputs": [
    {
     "name": "stdout",
     "output_type": "stream",
     "text": [
      "100 200 300 "
     ]
    }
   ],
   "source": [
    "print(100,end=' ')\n",
    "print(200,end=' ')\n",
    "print(300,end=' ')\n",
    "\n"
   ]
  },
  {
   "cell_type": "code",
   "execution_count": 10,
   "id": "0fb30f4c-ac6b-43de-a071-a9b46d48f363",
   "metadata": {},
   "outputs": [
    {
     "name": "stdout",
     "output_type": "stream",
     "text": [
      "100,200,300\n"
     ]
    }
   ],
   "source": [
    "print(100,200,300,sep=',')"
   ]
  },
  {
   "cell_type": "markdown",
   "id": "8b0e2dc8-a17a-4520-95c5-ae329c6f91bd",
   "metadata": {},
   "source": [
    "**note**\n",
    "- if you want to use end operator, minimum two print statement should be there\n",
    "- end means joining then two print statements\n",
    "- you can join with any spl character, any name or any number\n",
    "- inside print statement we can print many values\n",
    "- if you want to seperate those values use seperator"
   ]
  },
  {
   "cell_type": "markdown",
   "id": "0ac131f4-f247-4a41-8c29-244bd9d804ea",
   "metadata": {},
   "source": [
    "- normal print\n",
    "- format\n",
    "- f string\n",
    "- end\n",
    "- seperate"
   ]
  },
  {
   "cell_type": "code",
   "execution_count": null,
   "id": "23839fa3-f356-4b2d-a1bb-52a116fd403e",
   "metadata": {},
   "outputs": [],
   "source": []
  }
 ],
 "metadata": {
  "kernelspec": {
   "display_name": "Python 3 (ipykernel)",
   "language": "python",
   "name": "python3"
  },
  "language_info": {
   "codemirror_mode": {
    "name": "ipython",
    "version": 3
   },
   "file_extension": ".py",
   "mimetype": "text/x-python",
   "name": "python",
   "nbconvert_exporter": "python",
   "pygments_lexer": "ipython3",
   "version": "3.11.7"
  }
 },
 "nbformat": 4,
 "nbformat_minor": 5
}
