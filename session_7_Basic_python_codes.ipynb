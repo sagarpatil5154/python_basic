{
 "cells": [
  {
   "cell_type": "code",
   "execution_count": 1,
   "id": "9fd7c496-a7fc-4943-956a-c4393633c0eb",
   "metadata": {},
   "outputs": [
    {
     "name": "stdin",
     "output_type": "stream",
     "text": [
      " 100\n",
      " 200\n"
     ]
    },
    {
     "data": {
      "text/plain": [
       "300"
      ]
     },
     "execution_count": 1,
     "metadata": {},
     "output_type": "execute_result"
    }
   ],
   "source": [
    "a=int(input())\n",
    "b=int(input())\n",
    "a+b"
   ]
  },
  {
   "cell_type": "code",
   "execution_count": 2,
   "id": "661253b7-b8bb-49d8-9fe5-32dd0a30613b",
   "metadata": {},
   "outputs": [
    {
     "name": "stdin",
     "output_type": "stream",
     "text": [
      " 10.5\n",
      " 25\n"
     ]
    },
    {
     "data": {
      "text/plain": [
       "35.5"
      ]
     },
     "execution_count": 2,
     "metadata": {},
     "output_type": "execute_result"
    }
   ],
   "source": [
    "a=float(input())\n",
    "b=int(input())\n",
    "a+b"
   ]
  },
  {
   "cell_type": "markdown",
   "id": "2a0ff7d2-e2eb-49f7-a3d8-520535229678",
   "metadata": {},
   "source": [
    "## eval (evaluated)"
   ]
  },
  {
   "cell_type": "code",
   "execution_count": 3,
   "id": "93bf5e34-8712-434a-8f84-5139895df085",
   "metadata": {},
   "outputs": [
    {
     "name": "stdin",
     "output_type": "stream",
     "text": [
      " 10\n",
      " 20\n"
     ]
    },
    {
     "data": {
      "text/plain": [
       "30"
      ]
     },
     "execution_count": 3,
     "metadata": {},
     "output_type": "execute_result"
    }
   ],
   "source": [
    "a=eval(input())\n",
    "b=eval(input())\n",
    "a+b"
   ]
  },
  {
   "cell_type": "code",
   "execution_count": 4,
   "id": "eb9bc68f-1911-426b-8101-608bd6227991",
   "metadata": {},
   "outputs": [
    {
     "name": "stdin",
     "output_type": "stream",
     "text": [
      " 100.5\n",
      " 12.5\n"
     ]
    },
    {
     "data": {
      "text/plain": [
       "113.0"
      ]
     },
     "execution_count": 4,
     "metadata": {},
     "output_type": "execute_result"
    }
   ],
   "source": [
    "a=eval(input())\n",
    "b=eval(input())\n",
    "a+b"
   ]
  },
  {
   "cell_type": "code",
   "execution_count": 5,
   "id": "d4bc98bd-00a4-4878-ac7f-338fafc7250d",
   "metadata": {},
   "outputs": [
    {
     "name": "stdin",
     "output_type": "stream",
     "text": [
      " sagar\n"
     ]
    },
    {
     "data": {
      "text/plain": [
       "'sagar'"
      ]
     },
     "execution_count": 5,
     "metadata": {},
     "output_type": "execute_result"
    }
   ],
   "source": [
    "input()"
   ]
  },
  {
   "cell_type": "code",
   "execution_count": 9,
   "id": "9c3e197c-af15-404b-ac3f-75031ec41ae8",
   "metadata": {},
   "outputs": [
    {
     "name": "stdin",
     "output_type": "stream",
     "text": [
      "enter a number number1: 30\n",
      "enter a number number2: 10\n"
     ]
    },
    {
     "name": "stdout",
     "output_type": "stream",
     "text": [
      "the addition of 30 and 10 is 40\n",
      "the multiplication of 30 and 10 is 300\n",
      "the substraction of 30 and 10 is 20\n",
      "the addition of 30 and 10 is 3.0\n"
     ]
    }
   ],
   "source": [
    "num1=eval(input(\"enter a number number1:\"))\n",
    "num2=eval(input(\"enter a number number2:\"))\n",
    "print(f\"the addition of {num1} and {num2} is {num1+num2}\")\n",
    "print(f\"the multiplication of {num1} and {num2} is {num1*num2}\")\n",
    "print(f\"the substraction of {num1} and {num2} is {num1-num2}\")\n",
    "print(f\"the addition of {num1} and {num2} is {num1/num2}\")"
   ]
  },
  {
   "cell_type": "code",
   "execution_count": null,
   "id": "e28511e2-c335-4bb9-b145-7ebe34b85aea",
   "metadata": {},
   "outputs": [],
   "source": [
    "num3=eval(input(\"enter a number number1:\"))\n",
    "num4=eval(input(\"enter a number number2:\"))\n",
    "print(f\"the multiplication of {num3} and {num4} is {num3*num4}\")"
   ]
  },
  {
   "cell_type": "code",
   "execution_count": 6,
   "id": "f6e6c7e3-1de2-4899-b15e-cd736f7b1831",
   "metadata": {},
   "outputs": [
    {
     "name": "stdin",
     "output_type": "stream",
     "text": [
      "enter the number1: 10.5\n",
      "enter the number2: 10\n"
     ]
    },
    {
     "name": "stdout",
     "output_type": "stream",
     "text": [
      "addition of 10.5 and 10 is 20.5\n",
      "addition of 10.5 and 10 is 20.5\n"
     ]
    }
   ],
   "source": [
    "num1=input(\"enter the number1:\")\n",
    "num2=input(\"enter the number2:\")\n",
    "sum=eval(num1)+eval(num2)\n",
    "print(\"addition of {} and {} is {}\".format(num1,num2,sum))\n",
    "print(f\"addition of {num1} and {num2} is {eval(num1)+eval(num2)}\")"
   ]
  },
  {
   "cell_type": "code",
   "execution_count": 3,
   "id": "5f731910-76f2-41d3-9c1f-50c421a2c624",
   "metadata": {},
   "outputs": [
    {
     "name": "stdin",
     "output_type": "stream",
     "text": [
      "enter the number1: 10\n",
      "enter the number2: 5\n"
     ]
    },
    {
     "name": "stdout",
     "output_type": "stream",
     "text": [
      "multiplication of 10 and 5 is 50\n"
     ]
    }
   ],
   "source": [
    "number1=eval(input(\"enter the number1:\"))\n",
    "number2=eval(input(\"enter the number2:\"))\n",
    "mul=number1*number2\n",
    "print(f\"multiplication of {number1} and {number2} is {mul}\")"
   ]
  },
  {
   "cell_type": "markdown",
   "id": "6720f443-11a5-4830-aeb1-928ef0a7d9b2",
   "metadata": {},
   "source": [
    "$method-5$\n",
    "\n",
    "- Ask the user enter two random values between 10, 100\n",
    "- save the first random value in one variable \n",
    "- save the second random value in another variable \n",
    "- perform the addition"
   ]
  },
  {
   "cell_type": "code",
   "execution_count": 7,
   "id": "ec330f70-fec0-4c5e-a418-eefc694a7383",
   "metadata": {},
   "outputs": [],
   "source": [
    "import random"
   ]
  },
  {
   "cell_type": "code",
   "execution_count": 10,
   "id": "6ca1e592-4573-44cf-af60-15113482b213",
   "metadata": {},
   "outputs": [
    {
     "name": "stdout",
     "output_type": "stream",
     "text": [
      "the addition of 10 and 99 is 109\n"
     ]
    }
   ],
   "source": [
    "num1=random.randint(10,100)\n",
    "num2=random.randint(10,100)\n",
    "add=num1+num2\n",
    "print(f\"the addition of {num1} and {num2} is {add}\")"
   ]
  },
  {
   "cell_type": "code",
   "execution_count": null,
   "id": "f81837ff-2f93-47e6-a0cf-3e9f361950d9",
   "metadata": {},
   "outputs": [],
   "source": [
    "Q)take the three values in three variable perform the average"
   ]
  },
  {
   "cell_type": "code",
   "execution_count": 12,
   "id": "d584a6d3-6de7-4aa2-a5d1-b245f617013a",
   "metadata": {},
   "outputs": [
    {
     "name": "stdout",
     "output_type": "stream",
     "text": [
      "average of 10 and 20 and 30 is 20.0\n"
     ]
    }
   ],
   "source": [
    "a=10\n",
    "b=20\n",
    "c=30\n",
    "avg=(a+b+c)/3\n",
    "print(f\"average of {a} and {b} and {c} is {avg}\")"
   ]
  },
  {
   "cell_type": "code",
   "execution_count": 13,
   "id": "de376c14-904d-405d-b05d-db648c270a88",
   "metadata": {},
   "outputs": [
    {
     "name": "stdout",
     "output_type": "stream",
     "text": [
      "average of 100 and 200 and 300 is 200.0\n"
     ]
    }
   ],
   "source": [
    "x=100\n",
    "y=200\n",
    "z=300\n",
    "abc=(x+y+z)/3\n",
    "print(f\"average of {x} and {y} and {z} is {abc}\")\n"
   ]
  },
  {
   "cell_type": "code",
   "execution_count": null,
   "id": "16363f78-4213-44a1-b84a-c70d320e25d7",
   "metadata": {},
   "outputs": [],
   "source": [
    "Q)Imagine that went to a restaurant \n",
    "The restaurant bill is 1000rs\n",
    "you want to pay tip 100rs\n",
    "calculate bill"
   ]
  },
  {
   "cell_type": "code",
   "execution_count": 7,
   "id": "2d00aab8-9bee-476d-a996-b6f3240dd901",
   "metadata": {},
   "outputs": [
    {
     "name": "stdin",
     "output_type": "stream",
     "text": [
      "restaurant bill is: 1000\n",
      "tip given is: 100\n"
     ]
    },
    {
     "name": "stdout",
     "output_type": "stream",
     "text": [
      "total bill of restaurant is: 1100\n"
     ]
    }
   ],
   "source": [
    "res=int(input(\"restaurant bill is:\"))\n",
    "tip=int(input(\"tip given is:\"))\n",
    "total=res+tip\n",
    "print(\"total bill of restaurant is:\",total)"
   ]
  },
  {
   "cell_type": "code",
   "execution_count": 6,
   "id": "62f9e593-957d-4807-90b5-76e2857c00d2",
   "metadata": {},
   "outputs": [
    {
     "name": "stdin",
     "output_type": "stream",
     "text": [
      "enter the total bill: 1000\n",
      "enter the tip in %: 10\n"
     ]
    },
    {
     "name": "stdout",
     "output_type": "stream",
     "text": [
      "the total bill is : 1100.0\n"
     ]
    }
   ],
   "source": [
    "bill=eval(input(\"enter the total bill:\"))\n",
    "tipp=eval(input(\"enter the tip in %:\"))\n",
    "tipp_amount=(tipp*bill)/100\n",
    "total_bill=tipp_amount+bill\n",
    "print(\"the total bill is :\",total_bill)"
   ]
  },
  {
   "cell_type": "code",
   "execution_count": 1,
   "id": "8d5c0fd8-4d0a-4591-91df-95b00eb22bde",
   "metadata": {},
   "outputs": [
    {
     "name": "stdin",
     "output_type": "stream",
     "text": [
      "daughter: hey mum\n",
      "mum: hello beta\n",
      "daughter: Ts government implemented free bus service for womens\n",
      "mum: wow super news\n",
      "daughter: then we will go to the grandmothers house\n",
      "conductor: show me id card\n",
      "mum: we dont have id\n",
      "conducter: take the ticket\n",
      "mum: yes!\n",
      "conducter: where you want to go\n",
      "mum: hydrabad\n",
      "mum: how many km\n",
      "enter the km: 200\n",
      "mum: what is the cost\n",
      "conductor 2\n"
     ]
    },
    {
     "name": "stdout",
     "output_type": "stream",
     "text": [
      "the total charge is: 400\n"
     ]
    }
   ],
   "source": [
    "input(\"daughter:\")\n",
    "input(\"mum:\")\n",
    "input(\"daughter:\")\n",
    "input(\"mum:\")\n",
    "input(\"daughter:\")\n",
    "input(\"conductor:\")\n",
    "input(\"mum:\")\n",
    "input(\"conducter:\")\n",
    "input(\"mum:\")\n",
    "input(\"conducter:\")\n",
    "input(\"mum:\")\n",
    "input(\"mum:\")\n",
    "km=eval(input(\"enter the km:\"))\n",
    "input(\"mum:\")\n",
    "cost=eval(input(\"conductor\"))\n",
    "print(\"the total charge is:\",km*cost)"
   ]
  },
  {
   "cell_type": "markdown",
   "id": "05fc2fc8-9228-49e5-9fcd-82c362629ef2",
   "metadata": {},
   "source": [
    "$round$"
   ]
  },
  {
   "cell_type": "code",
   "execution_count": 1,
   "id": "6e46ce1c-0666-4d69-9dc6-1906e794bc5c",
   "metadata": {},
   "outputs": [
    {
     "data": {
      "text/plain": [
       "0.6666666666666666"
      ]
     },
     "execution_count": 1,
     "metadata": {},
     "output_type": "execute_result"
    }
   ],
   "source": [
    "2/3"
   ]
  },
  {
   "cell_type": "code",
   "execution_count": 2,
   "id": "cdd0bf23-4010-44c3-9afa-e00a85e4a409",
   "metadata": {},
   "outputs": [
    {
     "data": {
      "text/plain": [
       "0.67"
      ]
     },
     "execution_count": 2,
     "metadata": {},
     "output_type": "execute_result"
    }
   ],
   "source": [
    "round(2/3,2)"
   ]
  },
  {
   "cell_type": "code",
   "execution_count": 3,
   "id": "2387595c-dc0f-455d-ad74-0b14976fafa3",
   "metadata": {},
   "outputs": [
    {
     "data": {
      "text/plain": [
       "0.7"
      ]
     },
     "execution_count": 3,
     "metadata": {},
     "output_type": "execute_result"
    }
   ],
   "source": [
    "round(7/10,3)"
   ]
  },
  {
   "cell_type": "code",
   "execution_count": 9,
   "id": "73f04979-4fa7-44de-bbdb-ea4c491e6241",
   "metadata": {},
   "outputs": [
    {
     "name": "stdin",
     "output_type": "stream",
     "text": [
      "enter the 1st value: 17\n",
      "enter the 2nd value: 7\n"
     ]
    },
    {
     "name": "stdout",
     "output_type": "stream",
     "text": [
      "round of 17 and 7 is 2.43\n",
      "round of num1/num2 is 2.43\n"
     ]
    }
   ],
   "source": [
    "num1=eval(input(\"enter the 1st value:\"))\n",
    "num2=eval(input(\"enter the 2nd value:\"))\n",
    "x=round(num1/num2,2)\n",
    "print(f\"round of {num1} and {num2} is {x}\")\n",
    "print(\"round of num1/num2 is\",x)"
   ]
  },
  {
   "cell_type": "code",
   "execution_count": null,
   "id": "e11fe219-f0a0-497f-82f9-d8df2f649a22",
   "metadata": {},
   "outputs": [
    {
     "name": "stdin",
     "output_type": "stream",
     "text": [
      "pawar: kas ala\n"
     ]
    }
   ],
   "source": [
    "input('pawar:')\n",
    "input('patil:')"
   ]
  },
  {
   "cell_type": "code",
   "execution_count": null,
   "id": "6eb34c5a-6996-4387-9ffe-8bdfd4544b66",
   "metadata": {},
   "outputs": [],
   "source": []
  }
 ],
 "metadata": {
  "kernelspec": {
   "display_name": "Python 3 (ipykernel)",
   "language": "python",
   "name": "python3"
  },
  "language_info": {
   "codemirror_mode": {
    "name": "ipython",
    "version": 3
   },
   "file_extension": ".py",
   "mimetype": "text/x-python",
   "name": "python",
   "nbconvert_exporter": "python",
   "pygments_lexer": "ipython3",
   "version": "3.11.7"
  }
 },
 "nbformat": 4,
 "nbformat_minor": 5
}
